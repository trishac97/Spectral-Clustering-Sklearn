{
 "cells": [
  {
   "cell_type": "code",
   "execution_count": 1,
   "metadata": {},
   "outputs": [],
   "source": [
    "import numpy as np\n",
    "import matplotlib as mpl\n",
    "import matplotlib.pyplot as plt\n",
    "from sklearn.datasets import make_moons\n",
    "from sklearn.neighbors import radius_neighbors_graph\n",
    "from scipy.sparse import csgraph"
   ]
  },
  {
   "cell_type": "code",
   "execution_count": 2,
   "metadata": {},
   "outputs": [],
   "source": [
    "#Steps to perform spectral clustering for 2-moon dataset.\n",
    "\n",
    "\n",
    "#1.   Generate the dataset using sklearn package.\n",
    "#2.   Translate the dataset into low-dimention using adjacency matrix and laplacian matrix in order to generate eigenvalues and eigenvectors.\n",
    "#3.    Use eigenvalues and its corresponding eigenvector to classify datapoints into bipartioned graph.\n",
    "\n"
   ]
  },
  {
   "cell_type": "code",
   "execution_count": 3,
   "metadata": {},
   "outputs": [],
   "source": [
    "'''Generates 2moon data'''\n",
    "def generate_2moon():\n",
    "  data_moon, ground_moon = make_moons(n_samples=1500, noise=.05) #data_moon sklearn dataset for two interleaving half circles, ground_moon is the ground truth after clustering\n",
    "  fig, ax = plt.subplots(figsize=(7,7))\n",
    "  ax.set_title('Ground Truth for clustering two moon', fontsize=20)\n",
    "  ax.scatter(data_moon[:, 0], data_moon[:, 1],c=ground_moon,s=30)\n",
    "  return data_moon"
   ]
  },
  {
   "cell_type": "code",
   "execution_count": 4,
   "metadata": {},
   "outputs": [],
   "source": [
    "'''Calculate the adjacent and laplacian matrix'''\n",
    "def calculate_adj_laplacian(data_circle):\n",
    "  Adj = radius_neighbors_graph(data_circle,0.4,mode='distance', metric='minkowski', p=2, metric_params=None, include_self=False)\n",
    "  Adj = Adj.toarray()\n",
    "  L = csgraph.laplacian(Adj, normed=False)\n",
    "  return L"
   ]
  },
  {
   "cell_type": "code",
   "execution_count": null,
   "metadata": {},
   "outputs": [],
   "source": []
  }
 ],
 "metadata": {
  "kernelspec": {
   "display_name": "Python 3",
   "language": "python",
   "name": "python3"
  },
  "language_info": {
   "codemirror_mode": {
    "name": "ipython",
    "version": 3
   },
   "file_extension": ".py",
   "mimetype": "text/x-python",
   "name": "python",
   "nbconvert_exporter": "python",
   "pygments_lexer": "ipython3",
   "version": "3.8.5"
  }
 },
 "nbformat": 4,
 "nbformat_minor": 4
}
